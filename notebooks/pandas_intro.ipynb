{
 "cells": [
  {
   "cell_type": "markdown",
   "metadata": {},
   "source": [
    "# Pandas\n",
    "## What is Pandas?\n",
    "\n",
    "![\"Python data science stack\"](./pics/python_stack.jpeg)\n",
    "\n",
    "Pandas was created by Wes Mckinney for having R style data frames in python and times series data.\n",
    "\n",
    "Pandas is good for:\n",
    "* Data cleaning\n",
    "* Data wrangling\n",
    "* Reading and writing data\n",
    "* Time series data"
   ]
  },
  {
   "cell_type": "markdown",
   "metadata": {},
   "source": [
    "# Anatomy of a pandas dataframe\n",
    "\n",
    "A data frame is a two dimensional structure with rows and columns.<br>\n",
    "Row are sorted by an *index*. <br>\n",
    "Columns by *names*. <br>\n",
    "\n",
    "|     |       | col 1 | col 2 |\n",
    "|-----|-------|-------|-------|\n",
    "|index| row 1 |       |       |\n",
    "|     | row 2 |       |       |\n",
    "\n",
    "\n",
    "A data frame object (df) "
   ]
  },
  {
   "cell_type": "code",
   "execution_count": null,
   "metadata": {},
   "outputs": [],
   "source": []
  }
 ],
 "metadata": {
  "kernelspec": {
   "display_name": "Python 3",
   "language": "python",
   "name": "python3"
  },
  "language_info": {
   "codemirror_mode": {
    "name": "ipython",
    "version": 3
   },
   "file_extension": ".py",
   "mimetype": "text/x-python",
   "name": "python",
   "nbconvert_exporter": "python",
   "pygments_lexer": "ipython3",
   "version": "3.6.4"
  }
 },
 "nbformat": 4,
 "nbformat_minor": 2
}
